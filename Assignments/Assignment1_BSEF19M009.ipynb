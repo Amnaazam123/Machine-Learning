{
  "nbformat": 4,
  "nbformat_minor": 0,
  "metadata": {
    "colab": {
      "provenance": []
    },
    "kernelspec": {
      "name": "python3",
      "display_name": "Python 3"
    },
    "language_info": {
      "name": "python"
    }
  },
  "cells": [
    {
      "cell_type": "code",
      "execution_count": null,
      "metadata": {
        "id": "A25i5gFqxVMM"
      },
      "outputs": [],
      "source": [
        "import numpy as np\n",
        "import pandas as pd\n",
        "import matplotlib.pyplot as pt\n",
        "# recognize this file about drive\n",
        "from google.colab import drive"
      ]
    },
    {
      "cell_type": "code",
      "source": [
        "#give this file access to your drive\n",
        "drive.mount(\"/content/drive\")"
      ],
      "metadata": {
        "colab": {
          "base_uri": "https://localhost:8080/"
        },
        "id": "fJGlSk_azi8C",
        "outputId": "cffc62d4-7d67-4cfa-f5aa-c5ae0fb2350b"
      },
      "execution_count": null,
      "outputs": [
        {
          "output_type": "stream",
          "name": "stdout",
          "text": [
            "Mounted at /content/drive\n"
          ]
        }
      ]
    },
    {
      "cell_type": "code",
      "source": [
        "# define path of that folder which contains csv files\n",
        "path = \"drive/MyDrive/MachineLearning/Dataset-A1/\""
      ],
      "metadata": {
        "id": "7wAGRycpzjK1"
      },
      "execution_count": null,
      "outputs": []
    },
    {
      "cell_type": "markdown",
      "source": [
        "### **Read CSV files**"
      ],
      "metadata": {
        "id": "emphLp2wMcFU"
      }
    },
    {
      "cell_type": "code",
      "source": [
        "# read training or testing CSV files\n",
        "train_df = pd.read_csv(path+\"train.csv\")\n",
        "test_df = pd.read_csv(path+\"test.csv\")"
      ],
      "metadata": {
        "id": "Lp9qLy2GzjRR"
      },
      "execution_count": null,
      "outputs": []
    },
    {
      "cell_type": "code",
      "source": [
        "# Getting first 10 rows from traing and testing dataframes\n",
        "trainRecord = train_df.head(10)\n",
        "testRecord = test_df.head(10)"
      ],
      "metadata": {
        "id": "n5ajcGsXzjUl"
      },
      "execution_count": null,
      "outputs": []
    },
    {
      "cell_type": "code",
      "source": [
        "# Printing first 10 rows from traing dataframe\n",
        "print(trainRecord)"
      ],
      "metadata": {
        "colab": {
          "base_uri": "https://localhost:8080/"
        },
        "id": "7-Cohf2vzjXy",
        "outputId": "3e6a4bae-b826-4cbe-d780-e7cdfb2fc819"
      },
      "execution_count": null,
      "outputs": [
        {
          "output_type": "stream",
          "name": "stdout",
          "text": [
            "    x          y\n",
            "0  24  21.549452\n",
            "1  50  47.464463\n",
            "2  15  17.218656\n",
            "3  38  36.586398\n",
            "4  87  87.288984\n",
            "5  36  32.463875\n",
            "6  12  10.780897\n",
            "7  81  80.763399\n",
            "8  25  24.612151\n",
            "9   5   6.963319\n"
          ]
        }
      ]
    },
    {
      "cell_type": "code",
      "source": [
        "# Printing first 10 rows from testing dataframes\n",
        "print(testRecord)"
      ],
      "metadata": {
        "colab": {
          "base_uri": "https://localhost:8080/"
        },
        "id": "ya_PlziqzjbF",
        "outputId": "fe77169e-7ed0-4339-cc9d-26c524886ea0"
      },
      "execution_count": null,
      "outputs": [
        {
          "output_type": "stream",
          "name": "stdout",
          "text": [
            "    x          y\n",
            "0  77  79.775152\n",
            "1  21  23.177279\n",
            "2  22  25.609262\n",
            "3  20  17.857388\n",
            "4  36  41.849864\n",
            "5  15   9.805235\n",
            "6  62  58.874659\n",
            "7  95  97.617937\n",
            "8  20  18.395127\n",
            "9   5   8.746748\n"
          ]
        }
      ]
    },
    {
      "cell_type": "markdown",
      "source": [
        "### **Training**"
      ],
      "metadata": {
        "id": "3cqqHP7mL35I"
      }
    },
    {
      "cell_type": "code",
      "source": [
        "# convert dataframes into numpy arrays\n",
        "training_array = train_df.to_numpy()\n",
        "testing_array = test_df.to_numpy()"
      ],
      "metadata": {
        "id": "j3Z6952jzjdn"
      },
      "execution_count": null,
      "outputs": []
    },
    {
      "cell_type": "code",
      "source": [
        "print(training_array.shape)\n",
        "print(testing_array.shape)"
      ],
      "metadata": {
        "colab": {
          "base_uri": "https://localhost:8080/"
        },
        "id": "i63_c8XTzjhA",
        "outputId": "4e43197e-3571-4a62-a6ab-37e4aad0e174"
      },
      "execution_count": null,
      "outputs": [
        {
          "output_type": "stream",
          "name": "stdout",
          "text": [
            "(699, 2)\n",
            "(300, 2)\n"
          ]
        }
      ]
    },
    {
      "cell_type": "code",
      "source": [
        "# Get total number of examples in training dataset\n",
        "m = training_array.shape[0]\n",
        "print(m)"
      ],
      "metadata": {
        "colab": {
          "base_uri": "https://localhost:8080/"
        },
        "id": "Nw5DxjXr3SeF",
        "outputId": "3ae7317c-0aee-49e0-a2b5-a3e884ee4414"
      },
      "execution_count": null,
      "outputs": [
        {
          "output_type": "stream",
          "name": "stdout",
          "text": [
            "699\n"
          ]
        }
      ]
    },
    {
      "cell_type": "code",
      "source": [
        "# find sum of all x given in training examples.\n",
        "x = training_array[:,0]\n",
        "x_sum = np.sum(x)\n",
        "print(x_sum)"
      ],
      "metadata": {
        "colab": {
          "base_uri": "https://localhost:8080/"
        },
        "id": "hVY2lSSx3Sgw",
        "outputId": "eb8ff789-4d23-4bde-b1c1-be3511a9f855"
      },
      "execution_count": null,
      "outputs": [
        {
          "output_type": "stream",
          "name": "stdout",
          "text": [
            "34960.0\n"
          ]
        }
      ]
    },
    {
      "cell_type": "code",
      "source": [
        "# find sum of all x squares given in training examples.\n",
        "x_square_sum = np.dot(x,x)\n",
        "print(x_square_sum)"
      ],
      "metadata": {
        "colab": {
          "base_uri": "https://localhost:8080/"
        },
        "id": "D66qQ83H3SmO",
        "outputId": "b9deac76-7f07-4703-b3c4-a5637756b585"
      },
      "execution_count": null,
      "outputs": [
        {
          "output_type": "stream",
          "name": "stdout",
          "text": [
            "2333680.0\n"
          ]
        }
      ]
    },
    {
      "cell_type": "code",
      "source": [
        "# In AX = B, Define A.\n",
        "A = np.array([\n",
        "    [m,x_sum],\n",
        "    [x_sum,x_square_sum]\n",
        "])\n",
        "print(A)"
      ],
      "metadata": {
        "colab": {
          "base_uri": "https://localhost:8080/"
        },
        "id": "Atzo1u4l3Soz",
        "outputId": "9b15aec7-0f06-4268-9772-16c40c5b205b"
      },
      "execution_count": null,
      "outputs": [
        {
          "output_type": "stream",
          "name": "stdout",
          "text": [
            "[[6.99000e+02 3.49600e+04]\n",
            " [3.49600e+04 2.33368e+06]]\n"
          ]
        }
      ]
    },
    {
      "cell_type": "code",
      "source": [
        "# A matrix has two rows and 2 columns.\n",
        "print(A.shape)"
      ],
      "metadata": {
        "colab": {
          "base_uri": "https://localhost:8080/"
        },
        "id": "ALZqSfyL3SrX",
        "outputId": "2d2d19bb-7a4d-4bfb-8c6a-8139f7541730"
      },
      "execution_count": null,
      "outputs": [
        {
          "output_type": "stream",
          "name": "stdout",
          "text": [
            "(2, 2)\n"
          ]
        }
      ]
    },
    {
      "cell_type": "code",
      "source": [
        "# X = (inverse of A) * B\n",
        "# compute A inverse\n",
        "A_inverse = np.linalg.inv(A)\n",
        "print(A_inverse)"
      ],
      "metadata": {
        "colab": {
          "base_uri": "https://localhost:8080/"
        },
        "id": "jzZQDycU3Sux",
        "outputId": "24e67281-e2f9-4b25-c976-6675cbe01989"
      },
      "execution_count": null,
      "outputs": [
        {
          "output_type": "stream",
          "name": "stdout",
          "text": [
            "[[ 5.70525106e-03 -8.54682634e-05]\n",
            " [-8.54682634e-05  1.70887632e-06]]\n"
          ]
        }
      ]
    },
    {
      "cell_type": "code",
      "source": [
        "# To compute B:\n",
        "# find sum of all y given in training examples.\n",
        "y = training_array[:,1]\n",
        "y_sum = np.sum(y)\n",
        "print(y_sum)"
      ],
      "metadata": {
        "colab": {
          "base_uri": "https://localhost:8080/"
        },
        "id": "10LEH_-MCK67",
        "outputId": "bc9c25f3-3d7d-4e38-ac9c-424aaf389c52"
      },
      "execution_count": null,
      "outputs": [
        {
          "output_type": "stream",
          "name": "stdout",
          "text": [
            "34907.968550150006\n"
          ]
        }
      ]
    },
    {
      "cell_type": "code",
      "source": [
        "# find sum of all x*y given in training examples.\n",
        "xy_sum = np.dot(x,y)\n",
        "print(xy_sum)"
      ],
      "metadata": {
        "colab": {
          "base_uri": "https://localhost:8080/"
        },
        "id": "Hc0ccoxpDAym",
        "outputId": "8a82b914-ecbf-4d67-df67-0f131ad61ace"
      },
      "execution_count": null,
      "outputs": [
        {
          "output_type": "stream",
          "name": "stdout",
          "text": [
            "2331461.7845784575\n"
          ]
        }
      ]
    },
    {
      "cell_type": "code",
      "source": [
        "# compute B\n",
        "B = np.array([\n",
        "    [y_sum],\n",
        "    [xy_sum]\n",
        "])\n",
        "print(B)"
      ],
      "metadata": {
        "colab": {
          "base_uri": "https://localhost:8080/"
        },
        "id": "-42w4O2PLdSk",
        "outputId": "5911484b-26ca-4f1e-95cd-6b1d78cc3d82"
      },
      "execution_count": null,
      "outputs": [
        {
          "output_type": "stream",
          "name": "stdout",
          "text": [
            "[[  34907.96855015]\n",
            " [2331461.78457846]]\n"
          ]
        }
      ]
    },
    {
      "cell_type": "code",
      "source": [
        "#X = A inverse B (2 by 2,2 by 1)\n",
        "X = np.dot(A_inverse,B)"
      ],
      "metadata": {
        "id": "1XtQyC9zLdVO"
      },
      "execution_count": null,
      "outputs": []
    },
    {
      "cell_type": "code",
      "source": [
        "# where X is showing theeta values.\n",
        "print(X)"
      ],
      "metadata": {
        "colab": {
          "base_uri": "https://localhost:8080/"
        },
        "id": "MIkfhtPoLdY5",
        "outputId": "1ad632b6-cdc6-4056-b408-1edc8e6f3761"
      },
      "execution_count": null,
      "outputs": [
        {
          "output_type": "stream",
          "name": "stdout",
          "text": [
            "[[-0.10726546]\n",
            " [ 1.00065638]]\n"
          ]
        }
      ]
    },
    {
      "cell_type": "markdown",
      "source": [
        "\n",
        "### **Testing**"
      ],
      "metadata": {
        "id": "NaGllKdeAq4e"
      }
    },
    {
      "cell_type": "code",
      "source": [
        "# y_prime = theeta0 + (theeta1 * testing_x)\n",
        "testing_x = testing_array[:,0]"
      ],
      "metadata": {
        "id": "2lGAkVHFNRgJ"
      },
      "execution_count": null,
      "outputs": []
    },
    {
      "cell_type": "code",
      "source": [
        "y_prime = -0.10726546 + 1.00065638 * (testing_x)\n",
        "print(y_prime.shape)"
      ],
      "metadata": {
        "colab": {
          "base_uri": "https://localhost:8080/"
        },
        "id": "Tav00aCgNRiu",
        "outputId": "5c2bf25f-8448-480d-f6c7-692eeacad7f7"
      },
      "execution_count": null,
      "outputs": [
        {
          "output_type": "stream",
          "name": "stdout",
          "text": [
            "(300,)\n"
          ]
        }
      ]
    },
    {
      "cell_type": "markdown",
      "source": [
        "### **Plotting**"
      ],
      "metadata": {
        "id": "CrShyG2jBeL3"
      }
    },
    {
      "cell_type": "code",
      "source": [
        "testing_y = testing_array[:,1]"
      ],
      "metadata": {
        "id": "QAQyAznySuhn"
      },
      "execution_count": null,
      "outputs": []
    },
    {
      "cell_type": "code",
      "source": [
        "# Plotting data of testing x and actual testing y of testing examples\n",
        "pt.plot(testing_x,testing_y)\n",
        "pt.show()"
      ],
      "metadata": {
        "colab": {
          "base_uri": "https://localhost:8080/",
          "height": 265
        },
        "id": "ZSiJrjtuNRlc",
        "outputId": "904dac95-456d-4954-a492-2120652de390"
      },
      "execution_count": null,
      "outputs": [
        {
          "output_type": "display_data",
          "data": {
            "text/plain": [
              "<Figure size 432x288 with 1 Axes>"
            ],
            "image/png": "[encoded data removed]"
          },
          "metadata": {
            "needs_background": "light"
          }
        }
      ]
    },
    {
      "cell_type": "code",
      "source": [
        "# Plotting data of original x and computed y i.e. y` of testing examples\n",
        "pt.plot(testing_x,y_prime)"
      ],
      "metadata": {
        "colab": {
          "base_uri": "https://localhost:8080/",
          "height": 282
        },
        "id": "cjojPNudNRn_",
        "outputId": "660c7b26-3e52-47a5-d668-f7aef8587d00"
      },
      "execution_count": null,
      "outputs": [
        {
          "output_type": "execute_result",
          "data": {
            "text/plain": [
              "[<matplotlib.lines.Line2D at 0x7faa7e511f50>]"
            ]
          },
          "metadata": {},
          "execution_count": 29
        },
        {
          "output_type": "display_data",
          "data": {
            "text/plain": [
              "<Figure size 432x288 with 1 Axes>"
            ],
            "image/png": "[encoded data removed]"
          },
          "metadata": {
            "needs_background": "light"
          }
        }
      ]
    },
    {
      "cell_type": "markdown",
      "source": [
        "### **Computing** **Error**"
      ],
      "metadata": {
        "id": "xIthmSK7CE14"
      }
    },
    {
      "cell_type": "code",
      "source": [
        "#error - (1/2m) * sum(y`-y)^2\n",
        "difference = y_prime - testing_y"
      ],
      "metadata": {
        "id": "EyULKqkUNRrL"
      },
      "execution_count": null,
      "outputs": []
    },
    {
      "cell_type": "code",
      "source": [
        "print(difference.shape)"
      ],
      "metadata": {
        "colab": {
          "base_uri": "https://localhost:8080/"
        },
        "id": "H_lODgvGNRuc",
        "outputId": "2f862a4b-81cc-4695-9ca1-2b0b2f0d80c5"
      },
      "execution_count": null,
      "outputs": [
        {
          "output_type": "stream",
          "name": "stdout",
          "text": [
            "(300,)\n"
          ]
        }
      ]
    },
    {
      "cell_type": "code",
      "source": [
        "square_sum = np.dot(difference,difference)\n",
        "print(square_sum)"
      ],
      "metadata": {
        "colab": {
          "base_uri": "https://localhost:8080/"
        },
        "id": "EWJ7cmgrNRxb",
        "outputId": "a65d9f35-d2a2-4a79-adf6-5991cdee6670"
      },
      "execution_count": null,
      "outputs": [
        {
          "output_type": "stream",
          "name": "stdout",
          "text": [
            "2829.8766884808115\n"
          ]
        }
      ]
    },
    {
      "cell_type": "code",
      "source": [
        "error = square_sum  / 600"
      ],
      "metadata": {
        "id": "oBV91Ch-NR0H"
      },
      "execution_count": null,
      "outputs": []
    },
    {
      "cell_type": "code",
      "source": [
        "print(error)"
      ],
      "metadata": {
        "colab": {
          "base_uri": "https://localhost:8080/"
        },
        "id": "MKqd8yP6NR3D",
        "outputId": "38877dc9-e9fb-4c11-f16e-dfcf4e28840d"
      },
      "execution_count": null,
      "outputs": [
        {
          "output_type": "stream",
          "name": "stdout",
          "text": [
            "4.716461147468019\n"
          ]
        }
      ]
    }
  ]
}